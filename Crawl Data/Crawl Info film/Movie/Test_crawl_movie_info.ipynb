{
 "cells": [
  {
   "cell_type": "markdown",
   "metadata": {},
   "source": [
    "# Import thư viện"
   ]
  },
  {
   "cell_type": "code",
   "execution_count": 26,
   "metadata": {},
   "outputs": [],
   "source": [
    "from selenium import webdriver\n",
    "from selenium.webdriver.chrome.service import Service\n",
    "from bs4 import BeautifulSoup\n",
    "import pandas as pd\n",
    "from time import sleep\n",
    "from selenium import webdriver\n",
    "from selenium.webdriver.support.ui import WebDriverWait\n",
    "from selenium.webdriver.support import expected_conditions as EC\n",
    "from selenium.webdriver.common.by import By\n",
    "import traceback"
   ]
  },
  {
   "cell_type": "code",
   "execution_count": 27,
   "metadata": {},
   "outputs": [],
   "source": [
    "# Mở trình duyệt Google Chrome ở trang thái Tab ẩn danh\n",
    "options = webdriver.ChromeOptions()\n",
    "options.add_argument('--ignore-certificate-errors')\n",
    "options.add_argument('--incognito')\n",
    "options.add_argument(\"--start-maximized\")\n",
    "s = Service('C:\\chromedriver')\n",
    "driver = webdriver.Chrome(service=s, options=options)\n",
    "driver.implicitly_wait(0)"
   ]
  },
  {
   "cell_type": "code",
   "execution_count": 28,
   "metadata": {},
   "outputs": [],
   "source": [
    "# List tất cả url movie\n",
    "list_all_url_movie = pd.read_csv('E:/Crawl_Web/Rotten Tomatoes/Crawl URL/URL_movie.csv').squeeze('columns').tolist()"
   ]
  },
  {
   "cell_type": "markdown",
   "metadata": {},
   "source": [
    "# Thông tin phim"
   ]
  },
  {
   "cell_type": "code",
   "execution_count": 29,
   "metadata": {},
   "outputs": [],
   "source": [
    "# Mở url\n",
    "# url = 'https://www.rottentomatoes.com/m/operation_fortune_ruse_de_guerre'\n",
    "# url = 'https://www.rottentomatoes.com/m/bunker_2022'\n",
    "url = 'https://www.rottentomatoes.com/m/necesito_dinero'\n",
    "# url = 'https://www.rottentomatoes.com/m/antman'\n",
    "driver.get(url)"
   ]
  },
  {
   "cell_type": "code",
   "execution_count": 30,
   "metadata": {},
   "outputs": [],
   "source": [
    "# Đợi cho đến khi url load xong\n",
    "element = WebDriverWait(driver, 30).until(EC.presence_of_element_located((By.CSS_SELECTOR, 'div[class=\"container roma-layout__body\"]')))\n",
    "html_of_interest = driver.execute_script('return arguments[0].innerHTML',element)\n",
    "soup = BeautifulSoup(html_of_interest, 'lxml')"
   ]
  },
  {
   "cell_type": "code",
   "execution_count": 31,
   "metadata": {},
   "outputs": [
    {
     "data": {
      "text/plain": [
       "'Necesito dinero'"
      ]
     },
     "execution_count": 31,
     "metadata": {},
     "output_type": "execute_result"
    }
   ],
   "source": [
    "# Tiêu đề phim\n",
    "title = soup.select('h1[class=\"scoreboard__title\"]')[0].text\n",
    "title"
   ]
  },
  {
   "cell_type": "code",
   "execution_count": 32,
   "metadata": {},
   "outputs": [
    {
     "data": {
      "text/plain": [
       "True"
      ]
     },
     "execution_count": 32,
     "metadata": {},
     "output_type": "execute_result"
    }
   ],
   "source": [
    "# Điểm đánh giá của nhà phê bình\n",
    "tomatometer = soup.select('score-board')[0].attrs['tomatometerscore']\n",
    "tomatometer == ''"
   ]
  },
  {
   "cell_type": "code",
   "execution_count": 33,
   "metadata": {},
   "outputs": [
    {
     "data": {
      "text/plain": [
       "''"
      ]
     },
     "execution_count": 33,
     "metadata": {},
     "output_type": "execute_result"
    }
   ],
   "source": [
    "# Điểm đánh giá của khán giả\n",
    "audience_score = soup.select('score-board')[0].attrs['audiencescore']\n",
    "audience_score"
   ]
  },
  {
   "cell_type": "code",
   "execution_count": 34,
   "metadata": {},
   "outputs": [
    {
     "data": {
      "text/plain": [
       "'0 Reviews'"
      ]
     },
     "execution_count": 34,
     "metadata": {},
     "output_type": "execute_result"
    }
   ],
   "source": [
    "# Số lượt đánh giá của nhà phê bình\n",
    "num_tomatometer = soup.select('a[slot=\"critics-count\"]')[0].text.strip()\n",
    "num_tomatometer"
   ]
  },
  {
   "cell_type": "code",
   "execution_count": 35,
   "metadata": {},
   "outputs": [
    {
     "data": {
      "text/plain": [
       "'250+ Ratings'"
      ]
     },
     "execution_count": 35,
     "metadata": {},
     "output_type": "execute_result"
    }
   ],
   "source": [
    "# Số lượt đánh giá của khán giả\n",
    "num_audience_score = soup.select('a[slot=\"audience-count\"]')[0].text.strip()\n",
    "num_audience_score"
   ]
  },
  {
   "cell_type": "code",
   "execution_count": 36,
   "metadata": {},
   "outputs": [
    {
     "data": {
      "text/plain": [
       "''"
      ]
     },
     "execution_count": 36,
     "metadata": {},
     "output_type": "execute_result"
    }
   ],
   "source": [
    "# The Tomatometer score\n",
    "tomatometer_state = soup.select('score-board')[0].attrs['tomatometerstate']\n",
    "tomatometer_state"
   ]
  },
  {
   "cell_type": "code",
   "execution_count": 37,
   "metadata": {},
   "outputs": [
    {
     "data": {
      "text/plain": [
       "''"
      ]
     },
     "execution_count": 37,
     "metadata": {},
     "output_type": "execute_result"
    }
   ],
   "source": [
    "# The Audience Score\n",
    "audience_state = soup.select('score-board')[0].attrs['audiencestate']\n",
    "audience_state"
   ]
  },
  {
   "cell_type": "code",
   "execution_count": 52,
   "metadata": {},
   "outputs": [
    {
     "name": "stdout",
     "output_type": "stream",
     "text": [
      "GenreRomance, Comedy\n",
      "Original LanguageEnglish\n",
      "DirectorMiguel Zacarías\n",
      "WriterEdmundo Báez, Miguel Zacarías\n",
      "Runtime1h 30m\n"
     ]
    }
   ],
   "source": [
    "# Thông tin phim\n",
    "list_name_info = soup.select('b[class=\"info-item-label\"]')\n",
    "list_info = soup.select('span[data-qa=\"movie-info-item-value\"]')\n",
    "\n",
    "for num_info in range(len(list_name_info)):\n",
    "    name_info = list_name_info[num_info].text.replace('  ', '').replace('\\n', '').replace(':', '')\n",
    "    info = list_info[num_info].text.replace('  ', '').replace('\\n', '').replace(':', '')\n",
    "    print(name_info + info)"
   ]
  },
  {
   "cell_type": "code",
   "execution_count": 39,
   "metadata": {},
   "outputs": [
    {
     "data": {
      "text/plain": [
       "'A poor mechanic falls in love with a beautiful and ambitious girl who passed through the workshop where he works.'"
      ]
     },
     "execution_count": 39,
     "metadata": {},
     "output_type": "execute_result"
    }
   ],
   "source": [
    "# Tóm tắt nội dụng phim\n",
    "synopsis = soup.select('p[data-qa=\"movie-info-synopsis\"]')[0].text.strip()\n",
    "synopsis"
   ]
  },
  {
   "cell_type": "code",
   "execution_count": 51,
   "metadata": {},
   "outputs": [
    {
     "data": {
      "text/plain": [
       "'Pedro Infante, Sara Montiel, Irma Dorantes, Gustavo Rivero, Armando Sáenz, Elda Peralta, Guillermo Samperio, Gloria Morel, Luis Mussot, Armando Velasco, María España Vidal, Miguel Zacarías, Edmundo Báez, Miguel Zacarías, Jorge Stahl Jr., Manuel Esperón'"
      ]
     },
     "execution_count": 51,
     "metadata": {},
     "output_type": "execute_result"
    }
   ],
   "source": [
    "# Diễn viên\n",
    "list_raw_cast = soup.select('a[data-qa=\"cast-crew-item-link\"] > p')\n",
    "list_cast = []\n",
    "\n",
    "for c in range(len(list_raw_cast)):\n",
    "    list_cast.append(list_raw_cast[c].text)\n",
    "\n",
    "cast = ', '.join(list_cast)\n",
    "cast"
   ]
  },
  {
   "attachments": {},
   "cell_type": "markdown",
   "metadata": {},
   "source": [
    "# Reviews"
   ]
  },
  {
   "attachments": {},
   "cell_type": "markdown",
   "metadata": {},
   "source": [
    "### Critic and Top critic reviews"
   ]
  },
  {
   "cell_type": "code",
   "execution_count": null,
   "metadata": {},
   "outputs": [],
   "source": [
    "# Chuyển đến url critic reviews\n",
    "driver.get(url + '/reviews')\n",
    "\n",
    "element_critic_review = WebDriverWait(driver, 30).until(EC.presence_of_element_located((By.CSS_SELECTOR, 'div[class=\"layout reviews-page-container\"]')))\n",
    "html_of_interest = driver.execute_script('return arguments[0].innerHTML',element_critic_review)\n",
    "soup_critic_review = BeautifulSoup(html_of_interest, 'lxml')"
   ]
  },
  {
   "cell_type": "code",
   "execution_count": null,
   "metadata": {},
   "outputs": [
    {
     "name": "stdout",
     "output_type": "stream",
     "text": [
      "Feels like the third or fourth installment of a forgotten franchise, one of those late-series entries where everybody’s happy to see each other again and nobody is going to be accused of over-exerting themselves. This is not a knock. <>A serviceable chunk of entertainment that will probably work best with lowered expectations. <>“Operation Fortune” should be a Hartnett/Grant movie, not a Statham one. This snarky action comedy shines brightest when Grant and Hartnett are on screen.<>Ritchie decides that telling is more important than showing in this overly dry and formulaic take on the spy thriller. Statham is passable as yet another variant of his various other onscreen action personas, but it's sad to see Plaza wasted in her role. <>There’s less action than one might expect and the character development is so thin that even when a character is in danger, it’s hard to care.<>Everybody in Operation Fortune — yes, even Ritchie — seems to be having fun. Sometimes, that’s all you need.<>Operation Fortune: Ruse de Guerre is not a movie we need per se, but for those who are more than ho-hum enthusiasts of Guy Ritchie, it might have been just enough for them.<>More compelling in its setup than its payoff, there’s an underlying familiarity to the proceedings.<>Operation Fortune is a perfectly fine Guy Ritchie film, full of the requisite glam locations, sharp tailoring, and smug heroes, but Hugh Grant elevates this brisk, breezy action movie every minute he’s on screen.<>Judging from his latest, the English action director is trudging through the motions. <>This isn’t the worst imitation Bond knock-off you’ll ever see; there are far worse offenders in that category. But Operation Fortune doesn’t do Ritchie, his collaborators, or his cast any favors whatsoever.<>Action scenes feel slack.... Ritchie never allows viewers to get invested in the characters or the story.... The cast also seems underused.... The passable \"Operation Fortune\" is criminally ho-hum because Ritchie fails to deliver on its potential.<>The Man From S.H.R.U.G. It’s like watching a cheap Kingsman knockoff; only it comes from the filmmaker arguably most influential to the things that made those movies fun. <>It’s still great to see Ritchie exploring his interests outside of the traditional studio framework with the same kind of panache he kicked off this decade with. Still, Operation Fortune can’t overcome the limitations of its genre forefathers.<>There's nothing to Operation Fortune: Ruse de Guerre to recommend to audiences who aren't already fans of Ritchie and his work, and even those who are, have better options out there.<>[W]hen the film doesn’t have a gun in its hand, it is so sure on its feet, and silver-tongued one can forgive many of its failures.<>Best described as, and I shudder as I type this, conventional.  Adamantly conventional. So conventional that I found myself hoping that Ritchie was making a statement about conventionality that would pay off at some point. It’s called grasping at straws.<>Not awful, but don't let this Guy anywhere near a real Bond movie.<>There are elements of parody, but \"Operation Fortune\" is not broad enough to be a spoof. It's weirdly empty.<>While hardly up there with Ritchie’s sharpest romps, Operation Fortune still delivers more than enough witty repartee and slickly efficient action to satisfy.<>Operation Fortune: Ruse de Guerre can’t be taken seriously, or humorously.<>Things and people explode without consequence. And Statham, squinting manfully into the void, walks away unscathed, keen to throat-punch another day.<>If you want to sit back and watch a Guy Ritchie action spy comedy that also stars Hugh Grant, just watch “The Man from U.N.C.L.E.”<>...a movie that feels like it should be cool but isn't...a movie so high on its own supply that it becomes grating, not charismatic, the longer it slogs on.<>A Guy Ritchie movie through and through. It’s a film that features what fans like about his movies as well as what frustrates his detractors. How much mileage you get out it will probably depend on which side you fall on.<>Statham is overshadowed by Aubrey Plaza and Hugh Grant in this too-average actioner. It would be nice to see him stretch a bit, or even face a worthy opponent some time.<>Either Ritchie didn’t bring his typical slickness for the ride, or he’s chopped up Operation Fortune: Ruse de Guerre intentionally to take the piss out of the genre. The effect at least feels more like comfort than boredom.<>If I could put it into a box I'd say it's his attempt at a MISSION: IMPOSSIBLE filtered through the humorous lens utilized on THE GENTLEMEN. It may not be enough to petition for a sequel, but it's a lot of fun for fans of Ritchie's usual formula.<>Orson Fortune is an agent who'll only fly private and only drink \"the finest clarets.\" I don't know about anyone else, but I don't think of Jason Statham as a \"finest clarets\" kind of guy.<>Nothing we haven’t seen before and won’t see again but done with just enough playful ebullience for it to go down smoothly.<>Operation Fortune is essentially an off-brand Bond flick, and a sufficiently skilled one to offer an amusing, relaxing couple of hours free of substance and ethics.<>While it has all the requisite elements for an action thriller, “Operation Fortune: Ruse de Guerre” excels at none of them.<>The cast is big and eventually there is a bit of enjoyable action but Operation Fortune is a lot of fools gold.<>A mildly engaging spy thriller with a dull plot and not enough laughs, suspense, thrills or zaniness.<>It’s Mission: Impossible with British people talking in Guy Ritchie accents.<>... What should be a gas ends up feeling leadfooted, especially in the film's cumbersome third act.<>Operation Fortune: Ruse de Guerre isn’t a complete failure ... but the majority is a limp affair that never fully engages.<>A generic collage of mega-yachts, luxe hotels, fancy parties, disguised identities and tame fights that add up to a big nothing.<>Operation Fortune is a perfectly fine mid-budget thriller that aspires to do nothing more than deliver pure, unadulterated entertainment.<>It’s cockamamie from beginning to end, but shows a real appreciation for wanting to entertain its audience. Mission accomplished.<>Guy Ritchie’s stylish but ultimately frustratingly half-baked spy caper.<>The awkwardly titled Operation Fortune: Ruse De Guerre is loads of fun, an entertaining spy thriller that is faithful to the genre, very well cast, and a hoot to watch.<>A slick but old-fashioned spy extravaganza weighed down by an uncharismatic lead turn and a plot no cleverer than the title.<>A breezy, old-school Guy Ritchie action romp.<>Operation Fortune is a heck of a lot more fun than it has any right to be, and based on how much I despised the first act, I’m as flabbergasted about this as anyone.<>The silly premise is one that a better Ritchie film could, with some charm, style and wit, have turned into a workable romp. But everything here is stuck on autopilot.<>The style and panache of Guy Ritchie are certainly here in Operation Fortune: Ruse de guerre, although it feels subdued and neutered, as if it’s afraid to embrace his typical hyperactive energy and the lunacy of this plot<>Per usual, boasting a very talented cast and a clever, fast-paced script, this is another action-packed Guy Ritchie thriller with enough humor to keep everyone engaged.<>OPERATION FORTUNE: RUSE DE GUERRE is an entertaining romp accompanied by equal parts mayhem.<>[T]he movie ... never rises above the level of a generic thriller with some bits of comedy sprinkled into the mix.<>Operation Fortune: Ruse de Guerre is the latest in a long line of diminishing returns for Ritchie, made mildly diverting through the strength of its performances even as a central spy mystery struggles to give reason why it’s worth investing in.<>Operation Fortune: Ruse de Guerre gives a talented cast latitude to shine. Guy Ritchie never allows one performance to overshadow the others. He orchestrates ensemble success in a fun storyline that's action-packed.<>So, kick off your shoes, lay back, have a cocktail and plan to have some fun, even if there is nothing original here.<>“Operation Fortune” feels perfunctory and a great idea that somehow fell apart somewhere along the line. The cast does its best with what they’ve got but only so much can be done.<>By about the halfway mark, one loses interest in the plot of this larky, comedic action thriller, but whoever managed to sign Aubrey Plaza should get a bonus as the actress’s snarky line readings maintain interest far longer than this film deserves.<>While the director's love of craft can be seen in everything from the costumes to casting, it fails to extend to the performances—outside of [Hugh] Grant's.<>It’s an appetizer for better things to come, an amuse-bouche at best — at worst, a placeholder meal of cinematic comfort food, tiding us all over until it’s summer blockbuster season again.<>As the ever-reliable Jason Statham and Hugh Grant go head to head, Plaza steals the show with her killer instincts and comedic timing. If she can keep an operation this overstuffed afloat, there’s nothing she cannot do.<>Operation Fortune is a kick to the ass of the spy genre.<>Not even its dousing in Statham/Plaza sauce could spice this movie up, but the Hugh Grant x Josh Hartnett spin-off it hints at would be appreciated.<>Statham's schtick ain’t Shakespeare, but he does elevate meaty, muscle-bound macho to a kind of movie art form.<>Operation Fortune: Ruse de Guerre gives us what we want from another Guy Ritchie and Jason Statham collaboration, even if they fall into formulaic espionage-comedy rhythms.<>To call it formulaic would be insulting to formulas.<>I could never escape the feeling that Guy Ritchie had trapped himself on a hamster wheel of trying too hard. I’ve liked a few of his films. But I’ve never loved one. Until now.<>A briskly-paced, entertaining picture whose colorful characters keep a needlessly complicated story afloat.<>Offers a decent fun factor and some Ritchie-branded pep, once again returning to the ways of sarcastic characters, imminent dangers, and short blasts of cheekiness.<>Rarely before has a spy flick boasted protagonists who are never in any genuine danger.<>Disappointingly average, which is unacceptable for a director like Guy Ritchie who we know can (and expect to) bring style and flare. And if you're going to name your movie after the film's super spy, he's gotta be interesting and memorable, but he isn't.<>Perhaps middle age has made a couple of swagger veterans like Statham and Ritchie feel like they’ve earned the right to coast if the filming location is pretty enough, the action isn’t too demanding, and every fourth line has just enough sarcastic bite.<>Operation Fortune gives audiences what they want. The film is content to leave it at that, however. It does not try to reinvent the wheel. But sometimes plenty of action and Hugh Grant lighting up the screen is all you need.<>Operation Fortune is a rich spy caper that cashes in every chip it has with such glee that it’s only further evidence as to why Ritchie should continue to play the spy game on a regular basis.<>The results are quite entertaining. The plotting is deceptively straightforward, and perhaps the runtime is a little longer than needed, but it’s hard to mind when one is having so much fun.<>It’s espionage executed with cheeky flair and playful sexiness, and it’s enlivened by Aubrey Plaza, who runs away with the show.<>'Operation Fortune: Ruse de Guerre' delivers exactly what you'd expect from an R-rated Guy Ritchie spy caper with Jason Statham in the lead role, with the offbeat and energetic espionage adventure worthy of at least a sequel or two.<>Operation Fortune: Ruse de Guerre could have been a run-of-the-mill action comedy but the genius comes in casting the film.<>Operation Fortune feels like a movie fighting with itself over what it wants to be — so much so that almost every actor in the cast seems to have a different idea about what kind of movie they're appearing in.<>A sunny spy flick.<>The cast elevates Operation Fortune: Ruse de guerre, making it better than it would be otherwise.<>Operation Fortune: Ruse de Guerre is an enjoyable Guy Ritchie romp hampered by an all-too-familiar story but redeemed by explosive action and one of Jason Statham’s most swagger-filled performances to date as Bond-beater Orson Fortune.<>The whole thing is a Bond-lite lark... a “Mission: Improbable\" ...for Statham to bust out a little of the bald-headed, five o’clock shadow fight choreography that made him rich.<>Everything feels more like a brainstorming session than a finished film.<>If you’ve ever had an unfunny friend with a tendency to nudge you in the ribs until you grudgingly chuckle at their non-jokes, the experience of watching Operation Fortune will recreate the feeling of hanging out with that person with uncanny accuracy.<>Doesn't venture beyond mixing Ritchie's beloved bag of tricks together, reading like an effort to split the difference between his last two movies: The Gentlemen and effective revenge thriller Wrath of Man.<>The film isn’t great, though it doesn’t pretend to be anything other than a breezy good time.<>Guy’s main focus is to be stylish and cool, sitting back and letting his actors trade barbs and have fun.<>There is no attempt to disguise what the movie is, and it is malarkey, but not without some old-school charm.<>A fun and intriguing adventure. [Full review in Spanish]<>Clearly wishing it was more fun than it actually is, Operation Fortune has a spiritless, rote feel to it, as though churned out under contractual obligation and driven by an overriding desire to just get the thing over and done with.<>The story moves through predictable twists and fool-proofed formulas, but as it progresses and intentions become clear, it becomes more interesting... [Full review in Spanish]<>Operation Fortune has less to recommend than even the weakest of the Bond films. The banter is witless, the action sequences perfunctory and the take on global affairs is almost too wilfully empty-headed to be labelled as cynicism.<>... Former model and martial arts artist Stratham, an indisputably charismatic action antihero who always gives the same look, knows how to make the most of the lines of dialogue he's given. [Full review in Spanish]<>For fans of Ritchie, like yours truly, it is a pleasant experience; perhaps not as memorable as some of his previous productions, but certainly superior to what usually opens in theatres in the early months of the year. Full review in Spanish.<>Operation Fortune just sputters where it needs to explode and never gets any wind under its wings.<>We should absolutely expect a slowed-down shot of Aubrey Plaza shooting a handgun out the window of a swerving car at some point, and, wouldn’t you know it, we get it and it’s an absolute serve.<>... A film with no stamp boasting the British filmmaker's brand (not even the worst of it); a product that's correct, professional, and prolific, yet anodyne and impersonal. [Full review in Spanish]<>You're going to forget about it as soon as you walk out of the cinema, but while you're in the cinema, you're going to have a good time.<>Promising but failing to deliver the colorful characters and winding, breakneck plot of a caper, Operation Fortune may itself be a ruse, but it’s not a convincing one.<>Ritchie minimizes risks and chooses to remain in the epicenter of his comfort zone to offer a cocktail that mixes thriller, action and his trademark sly comedy in 114 of entertainment in its purest form.<>The real ruse will be trying to get people into the cinema …<>A suave, stylish old-school action thriller that knows exactly what it is and offers everything its audience wants.<>An effective and routine film that becomes an empty spy story.  [Full review in Spanish]<>Overall, Operation Fortune: Ruse de guerre is quite formulaic and the makers clearly focus more on entertaining the audience over anything else. But much like Fortune’s mission, this one too is a bit of a hit or a miss.<>Only fun, action, one-liners, and veterans Cary Elwes and Hugh Grant having a blast. Nothing more... and nothing less. [Full review in Spanish]<>Ritchie has found his formula, and doesn't seem to want to transform or get away from it. [Full review in Spanish]\n",
      "There’s less action than one might expect and the character development is so thin that even when a character is in danger, it’s hard to care.<>Everybody in Operation Fortune — yes, even Ritchie — seems to be having fun. Sometimes, that’s all you need.<>Operation Fortune is a perfectly fine Guy Ritchie film, full of the requisite glam locations, sharp tailoring, and smug heroes, but Hugh Grant elevates this brisk, breezy action movie every minute he’s on screen.<>Judging from his latest, the English action director is trudging through the motions. <>This isn’t the worst imitation Bond knock-off you’ll ever see; there are far worse offenders in that category. But Operation Fortune doesn’t do Ritchie, his collaborators, or his cast any favors whatsoever.<>Action scenes feel slack.... Ritchie never allows viewers to get invested in the characters or the story.... The cast also seems underused.... The passable \"Operation Fortune\" is criminally ho-hum because Ritchie fails to deliver on its potential.<>There are elements of parody, but \"Operation Fortune\" is not broad enough to be a spoof. It's weirdly empty.<>Operation Fortune: Ruse de Guerre can’t be taken seriously, or humorously.<>Things and people explode without consequence. And Statham, squinting manfully into the void, walks away unscathed, keen to throat-punch another day.<>Nothing we haven’t seen before and won’t see again but done with just enough playful ebullience for it to go down smoothly.<>... What should be a gas ends up feeling leadfooted, especially in the film's cumbersome third act.<>A generic collage of mega-yachts, luxe hotels, fancy parties, disguised identities and tame fights that add up to a big nothing.<>Operation Fortune is a perfectly fine mid-budget thriller that aspires to do nothing more than deliver pure, unadulterated entertainment.<>It’s cockamamie from beginning to end, but shows a real appreciation for wanting to entertain its audience. Mission accomplished.<>Guy Ritchie’s stylish but ultimately frustratingly half-baked spy caper.<>Operation Fortune is a heck of a lot more fun than it has any right to be, and based on how much I despised the first act, I’m as flabbergasted about this as anyone.<>The silly premise is one that a better Ritchie film could, with some charm, style and wit, have turned into a workable romp. But everything here is stuck on autopilot.<>While the director's love of craft can be seen in everything from the costumes to casting, it fails to extend to the performances—outside of [Hugh] Grant's.<>It’s an appetizer for better things to come, an amuse-bouche at best — at worst, a placeholder meal of cinematic comfort food, tiding us all over until it’s summer blockbuster season again.<>As the ever-reliable Jason Statham and Hugh Grant go head to head, Plaza steals the show with her killer instincts and comedic timing. If she can keep an operation this overstuffed afloat, there’s nothing she cannot do.<>To call it formulaic would be insulting to formulas.<>I could never escape the feeling that Guy Ritchie had trapped himself on a hamster wheel of trying too hard. I’ve liked a few of his films. But I’ve never loved one. Until now.<>Perhaps middle age has made a couple of swagger veterans like Statham and Ritchie feel like they’ve earned the right to coast if the filming location is pretty enough, the action isn’t too demanding, and every fourth line has just enough sarcastic bite.<>It’s espionage executed with cheeky flair and playful sexiness, and it’s enlivened by Aubrey Plaza, who runs away with the show.<>Operation Fortune has less to recommend than even the weakest of the Bond films. The banter is witless, the action sequences perfunctory and the take on global affairs is almost too wilfully empty-headed to be labelled as cynicism.<>Promising but failing to deliver the colorful characters and winding, breakneck plot of a caper, Operation Fortune may itself be a ruse, but it’s not a convincing one.\n"
     ]
    }
   ],
   "source": [
    "# Check có review của nhà phê bình không ?\n",
    "check_critic_review = soup_critic_review.select('div[class=\"review_table\"]')[0].text.strip()\n",
    "\n",
    "if check_critic_review != '':\n",
    "    list_critic_review = []\n",
    "    list_top_critic_review = []\n",
    "    \n",
    "    # Số lượng review trong 1 trang\n",
    "    num_critic_rv = len(soup_critic_review.select('div[class=\"review-row\"]'))\n",
    "\n",
    "    for num in range(num_critic_rv):\n",
    "        rv = soup_critic_review.select('div[class=\"review-row\"]')[num].find_all('p', {'class': 'review-text'})[0].text\n",
    "        list_critic_review.append(rv)\n",
    "\n",
    "        # Check top critic reviews\n",
    "        check_top_critic = soup_critic_review.select('div[class=\"review-row\"]')[num].find_all('rt-icon-top-critic')\n",
    "\n",
    "        if check_top_critic != []:\n",
    "            list_top_critic_review.append(rv)\n",
    "    \n",
    "    while True:\n",
    "        sleep(1)\n",
    "        try:\n",
    "            next_button = driver.find_element(By.CSS_SELECTOR, 'rt-button[class=\"js-prev-next-paging-next\"]')\n",
    "            driver.execute_script(\"arguments[0].click();\", next_button)\n",
    "            \n",
    "            element_critic_review = WebDriverWait(driver, 30).until(EC.presence_of_element_located((By.CSS_SELECTOR, 'div[class=\"review_table\"]')))\n",
    "            html_of_interest = driver.execute_script('return arguments[0].innerHTML',element_critic_review)\n",
    "            soup_critic_review = BeautifulSoup(html_of_interest, 'lxml')\n",
    "\n",
    "            num_critic_rv = len(soup_critic_review.select('div[class=\"review-row\"]'))\n",
    "\n",
    "            for num in range(num_critic_rv):\n",
    "                rv = soup_critic_review.select('div[class=\"review-row\"]')[num].find_all('p', {'class': 'review-text'})[0].text.strip()\n",
    "                list_critic_review.append(rv)\n",
    "\n",
    "                check_top_critic = soup_critic_review.select('div[class=\"review-row\"]')[num].find_all('rt-icon-top-critic')\n",
    "\n",
    "                if check_top_critic != []:\n",
    "                    list_top_critic_review.append(rv)\n",
    "            \n",
    "        except Exception:\n",
    "            # traceback.print_exc()\n",
    "            break\n",
    "\n",
    "    critic_review = '<>'.join(list_critic_review)\n",
    "    if list_top_critic_review != []:\n",
    "        top_critic_review = '<>'.join(list_top_critic_review)\n",
    "    else:\n",
    "        top_critic_review = 'No top critic reviews'\n",
    "    \n",
    "    print(critic_review)\n",
    "    print(top_critic_review)\n",
    "else:\n",
    "    critic_review = 'No critic reviews'\n",
    "    print(critic_review)"
   ]
  },
  {
   "attachments": {},
   "cell_type": "markdown",
   "metadata": {},
   "source": [
    "### Audience and Verified audience reviews"
   ]
  },
  {
   "cell_type": "code",
   "execution_count": null,
   "metadata": {},
   "outputs": [],
   "source": [
    "# Chuyển đến url review của khán giả\n",
    "driver.get(url + '/reviews?type=user')\n",
    "\n",
    "element_audience_review = WebDriverWait(driver, 30).until(EC.presence_of_element_located((By.CSS_SELECTOR, 'div[data-qa=\"reviews-container\"]')))\n",
    "html_of_interest = driver.execute_script('return arguments[0].innerHTML',element_audience_review)\n",
    "soup_audience_review = BeautifulSoup(html_of_interest, 'lxml')"
   ]
  },
  {
   "cell_type": "code",
   "execution_count": null,
   "metadata": {},
   "outputs": [
    {
     "name": "stdout",
     "output_type": "stream",
     "text": [
      "This was a Guy Ritchie masterpiece.<>Very entertaining. Well worth the price of the ticket. Lots of action. Great scene visuals. Grantham and Grant were great. wonderful to watch. would see it again.<>If you like action movies with ridiculous fight and shoot-out scenes, you will like it. If you like real movies, you will wonder why you bothered. I just don't get these kind of movies. It's mind-blowing to me how popular they are.<>It was a good enough movie, the action bits were cool, and two of my favorite actors just topped it for me. It would’ve been better if the plot was a bit more detailed, i guessed out who the antagonist mid way through and just caved in the plot from there. it was bit funny though, i’ll give it that.<>This was a Guy Ritchie masterpiece.<>Very entertaining. Well worth the price of the ticket. Lots of action. Great scene visuals. Grantham and Grant were great. wonderful to watch. would see it again.<>If you like action movies with ridiculous fight and shoot-out scenes, you will like it. If you like real movies, you will wonder why you bothered. I just don't get these kind of movies. It's mind-blowing to me how popular they are.<>It was a good enough movie, the action bits were cool, and two of my favorite actors just topped it for me. It would’ve been better if the plot was a bit more detailed, i guessed out who the antagonist mid way through and just caved in the plot from there. it was bit funny though, i’ll give it that.<>We love Guy Ritchie films and this one with Jason Statham did not disappoint. The sarcasm, action, and gorgeous views was just the perfect play. We absolutely loved it! But we love all his films. 😬<>Classic Guy Ritchie!! Guns, dialect, humor, violence and Jason!<>Guy Ritchie knocks it out of the park again! I have to tell you all something- i love Guy Ritchie films! Ever Since \"Lock, Stock and Two Smoking Barrels\" I have enjoyed his films, especially \"Snatch\" and \"The Gentlemen\" and this one doesn't disappoint. It's well paced, lots of action and a great plot twist or two. Hugh Grant and Audrey Plaza are the stand out characters in a stellar cast. Bugsy Malone from \"The Gentlemen\" is back and great! Jason Statham is terrific as a character called Orson Fortune and does his usual great acting in a role that had to be written just for him. Josh Harnett as a Hollywood Star caught up in the plot is a great addition and central to the film. This was a great use of two hours and I didn't even notice the time going by. A great film with a gret cast and doen buy a great director. I'm looking foward to both the DVD release and the film \"The Covenant\"<>Action packed! Great acting! Loved it!<>very entertaining, funny, good action. 👍🏼👍🏼<>Long winded boring and not a good film<>Fun fun and more fun and I am going to see it next weekend.<>Movie ok -  good but over 11.00 a seat is ridiculous .  No  wonder people stay home !<>Another great Guy Ritchie movie.<>Great fun and some very funny acting!!! Hugh Grant was hilarious and the rest of the cast were so entertaining .<>Fun entertainment with a great cast.<>great movie, enjoyed it a lot, funny, and definitely got just the right amount of action.<>Great acting. Good mix of action and comedy.<>Fun in every way, great acting and characters! Nice to see plausible action scenes vs over the top!! Story line was fresh and not a retread.<>Good fun and entertaining movie.  Worth the price!<>Well done and entertainingly! Good night out! Good stars and funny! James Bond type movie!<>James Bond on Steroids. It's all been done before nothing new here.<>liked the movie. very entertaining a must watch movie.<>If you love action movies, this movie is full of it.  Excellent.<>Great action and faced paced fun.<>Tons of action and Aubrey plaza is awesome.<>loved the movie. great pace, great action and comedy. always been a fan of Statham. hope to see the sequel.<>Dialogue and story line was puzzling, juvenile and monotonous.  It reminded me of watching all the inside jokes in an Oceans Eleven film  torturous to try to sit and watch.<>Really funny great cast, another Guy Richie classic,.<>Funny and witty! Loved seeing Josh Harnett back in the big screen!<>Guy Richie Team Spy Thriller. Great Work! Aubrey Was Amazing in it.<>Action packed and funny<>Sleek and cool espionage movie. Impressive world hopping visuals, tight action, and a talented cast. Guy Ritchie does it again.<>I really liked it! Fast, witty. I was thinking at times, though, that it doesn't look much better than what I can watch at home. A few of the car chase scenes just felt staged...like they didn't pull me in.<>Drags in the middle but has a strong opening and ending.<>Was entertaining - even if a bit \"cheesy\".  When I go to a movie these days, I want action/adventure/spy stories - pure fiction - no deep, depressing or hokey love stories.  This one fit the bill.<>Everything you come to expect from Richie is delivered. Loved it<>Very entertaining . . . much better than I expected.<>Loved seeing Statham, Grant and Elwes!!! An action movie with a plot and storyline I could follow! That was great! Everyone had funny one-liners, but Hartnett made me LOL!Language was bad but could have been worse.  I appreciate scripts that are creative enough to use extensive and expressive vocabulary instead of the F word in every line! Supporting cast was great as well!\n",
      "I'd look forward to a sequel!!!<>Statham was his usual. But that Audrey chick got irritating really quick  simple plot, not much action.<>The movie was awesome.   lots of action.  we plan to buy it.<>Story line was all over and not consistent.<>It was funny, action packed and kept you guessing<>Great cast. They all shined, but Plaza may have stole the show for me. Lots of fun from the get go<>pretty good , a little over the top, but not a bad film<>Tired storyline, cant wait for new James Bond.<>Always love Jason S, couple of new \"footmen\" added some depth. Fun movie! Stay for the credits<>Excellent flick! Comedy/action and just enough story to keep you entertained the whole way.<>Complicated plot twists, marvelous car chases, lots of surprises, and loved the helicopter scenes.<>Hugh Grant gave a career best performance. In reality the whole cast was phenomenal. I havent had this much fun at a movie for years. Definitely a must see!<>Escapism fun, except for too many casual shooting deaths of expendable anonymous security guards.\n",
      "Love the foreign and glam settings<>Best guy Ritchie film yet! Great actors, great plot, great action, and super funny!!! Loved it!<>Funny and good action<>It was entertaining and lots of fun!<>Loved the cast, loved the movie!<>Nothing really new for a Guy Ritchie movie but what he does, he does well.  It gave the kind of rush that I used to get from the earlier James Bond movies but without the pretension.<>Loved it! Funny and action packed!<>The movie is great! Funny, and lots of actions. I’ll see it again!😍<>It is s \"Straham\" movie and you know what to expect. \n",
      "Iti is an entertainment after all. I liked to keep you busy for a couple of hours. \n",
      "I keep saying that Tom Cruise comes always embarrassed after seem this type of \n",
      "\"Straham\" movie.<>We did enjoy \"Operation Fortune\".....Jason and Hugh did a great job pushing the plot forward.  Good, old-fashioned crime thriller....like most Stathem films.<>Nice action and story line<>Great entertainment!<>Loved all the actors! Nice to see some familiar faces back on the screen. The action was great, and cant wait for the sequel!<>Our modern 007 action film.<>Great action and comedy mixed around a fabulous plot.<>Loved the action, witty dialog, beautiful scenery! So fun!<>A stylish, fun spy flick.<>This movie was a refreshing change from all of the downer movies or social commentary movies that seems to predominate the theaters right now. The movie was well acted and very enjoyable.<>Very good movie,gave it a 10! Acting was well played and and just a very entertaining movie! A must see!<>Severely under advertised because this movie is actually a lot of fun. Even though the plot line is fairly usual the Highly likable cast, genuinely funny moments and engaging action sequences kept me interested the whole breezey two hours. You should definitely have a lot of fun watching this movie.<>Great chemistry amongst the entire cast.<>Quick, witty dialogue between Statham and Plaza. Not going to win any awards but was easy to sit through and enjoyed it<>Action packed movie from start to finish. Great teamwork! Jason was fabulous.<>action, humor, statham.<>Great Cast, great story! Didn't expect it to be as enteraining as it was.<>I really enjoyed this movie it had action & comedy. The actors were amazing.<>First great movie of 2023! Very stylish, snappy, and fun! This kind of movie is the exact reason we go to the movies!<>Excellent entertainment<>It was fun, light-hearted, and not so graphically violent you can't watch it after dinner.  Plus there were a few twists and quirks that kept it from falling into the typical action/spy movie formulae.<>Great movie, another good film by Guy Ritchie.<>Straight up movie fun!\n"
     ]
    }
   ],
   "source": [
    "# Check có review của khán giả không ?\n",
    "check_audience_review = soup_audience_review.select('div[id=\"movieUserReviewsContent\"]')\n",
    "\n",
    "if len(check_audience_review) != 0:\n",
    "    list_audience_review = []\n",
    "    list_verified_audience_review = []\n",
    "\n",
    "    # Số lượng review trong 1 trang\n",
    "    num_audience_rv = len(soup_audience_review.select('div[class=\"audience-review-row\"]'))\n",
    "    \n",
    "    for num in range(num_audience_rv):\n",
    "        rv = soup_audience_review.select('div[class=\"audience-review-row\"]')[num].find_all('p', {'data-qa': 'review-text'})[0].text\n",
    "        list_audience_review.append(rv)\n",
    "\n",
    "        # Check verified audience review\n",
    "        check_verified_audience = soup_audience_review.select('div[class=\"audience-review-row\"]')[num].find_all('span', {'class': 'audience-reviews__verified'})\n",
    "\n",
    "        if check_verified_audience != []:\n",
    "            list_verified_audience_review.append(rv)\n",
    "    \n",
    "    while True:\n",
    "        sleep(1)\n",
    "        try:\n",
    "            next_button = driver.find_element(By.CSS_SELECTOR, 'rt-button[class=\"js-prev-next-paging-next\"]')\n",
    "            driver.execute_script(\"arguments[0].click();\", next_button)\n",
    "            \n",
    "            element_audience_review = WebDriverWait(driver, 30).until(EC.presence_of_element_located((By.CSS_SELECTOR, 'div[id=\"movieUserReviewsContent\"]')))\n",
    "            html_of_interest = driver.execute_script('return arguments[0].innerHTML', element_audience_review)\n",
    "            soup_audience_review = BeautifulSoup(html_of_interest, 'lxml')\n",
    "\n",
    "            # Số lượng review trong 1 trang\n",
    "            num_audience_rv = len(soup_audience_review.select('div[class=\"audience-review-row\"]'))\n",
    "            \n",
    "            for num in range(num_audience_rv):\n",
    "                rv = soup_audience_review.select('div[class=\"audience-review-row\"]')[num].find_all('p', {'data-qa': 'review-text'})[0].text\n",
    "                list_audience_review.append(rv)\n",
    "\n",
    "                # Check verified audience review\n",
    "                check_verified_audience = soup_audience_review.select('div[class=\"audience-review-row\"]')[num].find_all('span', {'class': 'audience-reviews__verified'})\n",
    "\n",
    "                if check_verified_audience != []:\n",
    "                    list_verified_audience_review.append(rv)\n",
    "            \n",
    "        except:\n",
    "            break\n",
    "    audience_review = '<>'.join(list_audience_review)\n",
    "    if list_verified_audience_review != []:\n",
    "        verified_audience_review = '<>'.join(list_verified_audience_review)\n",
    "    else:\n",
    "        verified_audience_review = 'No verified audience reviews'\n",
    "    print(verified_audience_review)\n",
    "    \n",
    "else:\n",
    "    audience_review = 'No audience reviews'\n",
    "    verified_audience_review = 'No verified audience reviews'\n",
    "    print(audience_review)"
   ]
  }
 ],
 "metadata": {
  "kernelspec": {
   "display_name": "Python 3",
   "language": "python",
   "name": "python3"
  },
  "language_info": {
   "codemirror_mode": {
    "name": "ipython",
    "version": 3
   },
   "file_extension": ".py",
   "mimetype": "text/x-python",
   "name": "python",
   "nbconvert_exporter": "python",
   "pygments_lexer": "ipython3",
   "version": "3.9.0"
  }
 },
 "nbformat": 4,
 "nbformat_minor": 4
}
