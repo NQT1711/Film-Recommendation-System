{
 "cells": [
  {
   "cell_type": "code",
   "execution_count": 1,
   "metadata": {},
   "outputs": [],
   "source": [
    "from selenium import webdriver\n",
    "from selenium.webdriver.chrome.service import Service\n",
    "from bs4 import BeautifulSoup\n",
    "import pandas as pd\n",
    "from time import sleep\n",
    "from selenium import webdriver\n",
    "from selenium.webdriver.support.ui import WebDriverWait\n",
    "from selenium.webdriver.support import expected_conditions as EC\n",
    "from selenium.webdriver.common.by import By\n",
    "import traceback\n",
    "import threading\n",
    "from queue import Queue"
   ]
  },
  {
   "cell_type": "code",
   "execution_count": 2,
   "metadata": {},
   "outputs": [],
   "source": [
    "list_all_url_movie = pd.read_csv('E:/Crawl_Web/Rotten Tomatoes/Crawl URL/URL_movie.csv').squeeze('columns').tolist()"
   ]
  },
  {
   "cell_type": "code",
   "execution_count": 3,
   "metadata": {},
   "outputs": [],
   "source": [
    "def openMultiChrome(n):\n",
    "    list_driver = []\n",
    "    for i in range(n):\n",
    "        options = webdriver.ChromeOptions()\n",
    "        options.add_argument('--ignore-certificate-errors')\n",
    "        options.add_argument('--incognito')\n",
    "        options.add_argument(\"--start-maximized\")\n",
    "        s = Service('C:\\chromedriver')\n",
    "        driver = webdriver.Chrome(service=s, options=options)\n",
    "        driver.implicitly_wait(0)\n",
    "\n",
    "        list_driver.append(driver)\n",
    "    return list_driver"
   ]
  },
  {
   "cell_type": "code",
   "execution_count": 19,
   "metadata": {},
   "outputs": [],
   "source": [
    "def getUrl(driver, url):\n",
    "    driver.get(url)\n",
    "\n",
    "    # element = WebDriverWait(driver, 30).until(EC.presence_of_element_located((By.CSS_SELECTOR, 'div[id=\"main_container\"]')))\n",
    "    # html_of_interest = driver.execute_script('return arguments[0].innerHTML',element)\n",
    "    # soup = BeautifulSoup(html_of_interest, 'lxml')\n",
    "\n",
    "    # return soup"
   ]
  },
  {
   "cell_type": "code",
   "execution_count": 5,
   "metadata": {},
   "outputs": [],
   "source": [
    "def loadMultiUrl(list_driver, list_url):\n",
    "    num = 0\n",
    "    for driver in list_driver:\n",
    "        t = threading.Thread(target=getUrl, args=(driver, list_url[num]))\n",
    "        t.start()\n",
    "        num+=1"
   ]
  },
  {
   "cell_type": "code",
   "execution_count": 22,
   "metadata": {},
   "outputs": [],
   "source": [
    "def getData(driver):\n",
    "    try:\n",
    "        element = WebDriverWait(driver, 10).until(EC.presence_of_element_located((By.CSS_SELECTOR, 'div[id=\"main_container\"]')))\n",
    "        html_of_interest = driver.execute_script('return arguments[0].innerHTML',element)\n",
    "        soup = BeautifulSoup(html_of_interest, 'lxml')\n",
    "        \n",
    "        print(\"Page is ready!\")\n",
    "        # dict_info_movie = {}\n",
    "\n",
    "        # # Tiêu đề phim\n",
    "        # dict_info_movie['Title'] = soup.select('h1[class=\"scoreboard__title\"]')[0].text\n",
    "\n",
    "        # # Điểm đánh giá của nhà phê bình\n",
    "        # dict_info_movie['Tomatometer score'] = soup.select('score-board')[0].attrs['tomatometerscore']\n",
    "\n",
    "        list_title = []\n",
    "        list_score = []\n",
    "\n",
    "        list_title.append(soup.select('h1[class=\"scoreboard__title\"]')[0].text)\n",
    "        list_score.append(soup.select(soup.select('score-board')[0].attrs['tomatometerscore']))\n",
    "    except Exception:\n",
    "        traceback.print_exc()\n",
    "        list_title = []\n",
    "        list_score = []\n",
    "    print(\"Crawl Done!!!\")\n",
    "    return list_title, list_score"
   ]
  },
  {
   "cell_type": "code",
   "execution_count": 14,
   "metadata": {},
   "outputs": [],
   "source": [
    "def runInParallel(func, list_driver):\n",
    "    for driver in list_driver:\n",
    "        que = Queue()\n",
    "        print(\"-------Running parallel---------\")\n",
    "        t1 = threading.Thread(target=lambda q, arg1: q.put(func(arg1)), args=(que, driver))\n",
    "        t1.start()\n",
    "    try:\n",
    "        output = que.get()\n",
    "    except:\n",
    "        output = []\n",
    "\n",
    "    return output"
   ]
  },
  {
   "cell_type": "code",
   "execution_count": 23,
   "metadata": {},
   "outputs": [
    {
     "name": "stdout",
     "output_type": "stream",
     "text": [
      "-------Running parallel---------\n",
      "-------Running parallel---------\n",
      "Crawl Done!!!\n"
     ]
    },
    {
     "name": "stderr",
     "output_type": "stream",
     "text": [
      "Traceback (most recent call last):\n",
      "  File \"C:\\Users\\Nguyen Quang Tu\\AppData\\Local\\Temp\\ipykernel_10688\\857374492.py\", line 3, in getData\n",
      "    element = WebDriverWait(driver, 10).until(EC.presence_of_element_located((By.CSS_SELECTOR, 'div[id=\"main_container\"]')))\n",
      "  File \"c:\\Users\\Nguyen Quang Tu\\AppData\\Local\\Programs\\Python\\Python39\\lib\\site-packages\\selenium\\webdriver\\support\\wait.py\", line 95, in until\n",
      "    raise TimeoutException(message, screen, stacktrace)\n",
      "selenium.common.exceptions.TimeoutException: Message: \n",
      "Stacktrace:\n",
      "Backtrace:\n",
      "\t(No symbol) [0x00F1DCE3]\n",
      "\t(No symbol) [0x00EB39D1]\n",
      "\t(No symbol) [0x00DC4DA8]\n",
      "\t(No symbol) [0x00DF019F]\n",
      "\t(No symbol) [0x00DF03AB]\n",
      "\t(No symbol) [0x00E1EE62]\n",
      "\t(No symbol) [0x00E0AF14]\n",
      "\t(No symbol) [0x00E1D57C]\n",
      "\t(No symbol) [0x00E0ACC6]\n",
      "\t(No symbol) [0x00DE6F68]\n",
      "\t(No symbol) [0x00DE80CD]\n",
      "\tGetHandleVerifier [0x01193832+2506274]\n",
      "\tGetHandleVerifier [0x011C9794+2727300]\n",
      "\tGetHandleVerifier [0x011CE36C+2746716]\n",
      "\tGetHandleVerifier [0x00FC6690+617600]\n",
      "\t(No symbol) [0x00EBC712]\n",
      "\t(No symbol) [0x00EC1FF8]\n",
      "\t(No symbol) [0x00EC20DB]\n",
      "\t(No symbol) [0x00ECC63B]\n",
      "\tBaseThreadInitThunk [0x7685FEF9+25]\n",
      "\tRtlGetAppContainerNamedObjectPath [0x77D77BBE+286]\n",
      "\tRtlGetAppContainerNamedObjectPath [0x77D77B8E+238]\n",
      "\n"
     ]
    },
    {
     "name": "stderr",
     "output_type": "stream",
     "text": [
      "Traceback (most recent call last):\n",
      "  File \"C:\\Users\\Nguyen Quang Tu\\AppData\\Local\\Temp\\ipykernel_10688\\857374492.py\", line 3, in getData\n",
      "    element = WebDriverWait(driver, 10).until(EC.presence_of_element_located((By.CSS_SELECTOR, 'div[id=\"main_container\"]')))\n",
      "  File \"c:\\Users\\Nguyen Quang Tu\\AppData\\Local\\Programs\\Python\\Python39\\lib\\site-packages\\selenium\\webdriver\\support\\wait.py\", line 95, in until\n",
      "    raise TimeoutException(message, screen, stacktrace)\n",
      "selenium.common.exceptions.TimeoutException: Message: \n",
      "Stacktrace:\n",
      "Backtrace:\n",
      "\t(No symbol) [0x00F1DCE3]\n",
      "\t(No symbol) [0x00EB39D1]\n",
      "\t(No symbol) [0x00DC4DA8]\n",
      "\t(No symbol) [0x00DF019F]\n",
      "\t(No symbol) [0x00DF03AB]\n",
      "\t(No symbol) [0x00E1EE62]\n",
      "\t(No symbol) [0x00E0AF14]\n",
      "\t(No symbol) [0x00E1D57C]\n",
      "\t(No symbol) [0x00E0ACC6]\n",
      "\t(No symbol) [0x00DE6F68]\n",
      "\t(No symbol) [0x00DE80CD]\n",
      "\tGetHandleVerifier [0x01193832+2506274]\n",
      "\tGetHandleVerifier [0x011C9794+2727300]\n",
      "\tGetHandleVerifier [0x011CE36C+2746716]\n",
      "\tGetHandleVerifier [0x00FC6690+617600]\n",
      "\t(No symbol) [0x00EBC712]\n",
      "\t(No symbol) [0x00EC1FF8]\n",
      "\t(No symbol) [0x00EC20DB]\n",
      "\t(No symbol) [0x00ECC63B]\n",
      "\tBaseThreadInitThunk [0x7685FEF9+25]\n",
      "\tRtlGetAppContainerNamedObjectPath [0x77D77BBE+286]\n",
      "\tRtlGetAppContainerNamedObjectPath [0x77D77B8E+238]\n",
      "\n"
     ]
    },
    {
     "name": "stdout",
     "output_type": "stream",
     "text": [
      "Crawl Done!!!\n"
     ]
    }
   ],
   "source": [
    "num_thread = 2\n",
    "drivers = openMultiChrome(num_thread)\n",
    "a_list = []\n",
    "\n",
    "num = 0\n",
    "for i in range(round(len(list_all_url_movie)/num_thread)):\n",
    "    url = list_all_url_movie[num : num+num_thread]\n",
    "    loadMultiUrl(drivers, url)\n",
    "\n",
    "    title_score = runInParallel(getData, drivers)\n",
    "    a_list.append(title_score)\n",
    "\n",
    "    num += num_thread\n",
    "    break"
   ]
  },
  {
   "cell_type": "code",
   "execution_count": 16,
   "metadata": {},
   "outputs": [
    {
     "data": {
      "text/plain": [
       "[([], [])]"
      ]
     },
     "execution_count": 16,
     "metadata": {},
     "output_type": "execute_result"
    }
   ],
   "source": [
    "a_list"
   ]
  },
  {
   "cell_type": "code",
   "execution_count": null,
   "metadata": {},
   "outputs": [],
   "source": []
  }
 ],
 "metadata": {
  "kernelspec": {
   "display_name": "Python 3",
   "language": "python",
   "name": "python3"
  },
  "language_info": {
   "codemirror_mode": {
    "name": "ipython",
    "version": 3
   },
   "file_extension": ".py",
   "mimetype": "text/x-python",
   "name": "python",
   "nbconvert_exporter": "python",
   "pygments_lexer": "ipython3",
   "version": "3.9.0"
  },
  "orig_nbformat": 4
 },
 "nbformat": 4,
 "nbformat_minor": 2
}
