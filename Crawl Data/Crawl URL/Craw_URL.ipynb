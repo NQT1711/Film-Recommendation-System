{
 "cells": [
  {
   "attachments": {},
   "cell_type": "markdown",
   "metadata": {},
   "source": [
    "# Import thư viện"
   ]
  },
  {
   "cell_type": "code",
   "execution_count": 1,
   "metadata": {},
   "outputs": [],
   "source": [
    "from selenium import webdriver\n",
    "from requests import get\n",
    "from bs4 import BeautifulSoup\n",
    "import bs4\n",
    "import pandas as pd\n",
    "import numpy as np\n",
    "from time import sleep\n",
    "from random import randint\n",
    "from time import time\n",
    "from warnings import warn\n",
    "from datetime import datetime\n",
    "from datetime import timedelta\n",
    "from pytz import timezone\n",
    "from IPython.display import clear_output\n",
    "from selenium import webdriver\n",
    "from selenium.webdriver.common.keys import Keys\n",
    "from selenium.webdriver.support.ui import WebDriverWait\n",
    "from selenium.webdriver.support import expected_conditions as EC\n",
    "from selenium.webdriver.common.by import By\n",
    "from selenium.common.exceptions import TimeoutException\n",
    "from selenium.common.exceptions import StaleElementReferenceException\n",
    "import re\n",
    "import os\n",
    "import sys\n",
    "import glob\n",
    "import shutil\n",
    "from pathlib import Path\n",
    "import re"
   ]
  },
  {
   "attachments": {},
   "cell_type": "markdown",
   "metadata": {},
   "source": [
    "# Crawl URL"
   ]
  },
  {
   "cell_type": "code",
   "execution_count": 2,
   "metadata": {},
   "outputs": [],
   "source": [
    "# Mở trình duyệt Google Chrome ở trang thái Tab ẩn danh\n",
    "options = webdriver.ChromeOptions()\n",
    "options.add_argument('--ignore-certificate-errors')\n",
    "options.add_argument('--incognito')\n",
    "driver = webdriver.Chrome(executable_path='C:\\chromedriver', options=options)\n",
    "driver.implicitly_wait(0)"
   ]
  },
  {
   "cell_type": "code",
   "execution_count": 3,
   "metadata": {},
   "outputs": [],
   "source": [
    "# Mở sitemap của Rotten Tomatoes\n",
    "url = \"https://www.rottentomatoes.com/sitemaps/sitemap.xml\"\n",
    "driver.get(url)"
   ]
  },
  {
   "cell_type": "code",
   "execution_count": 4,
   "metadata": {},
   "outputs": [],
   "source": [
    "# Đợi cho đến khi sitemap load xong\n",
    "element= WebDriverWait(driver, 30).until(EC.presence_of_element_located((By.CSS_SELECTOR, 'div[class=\"pretty-print\"]')))\n",
    "html_of_interest=driver.execute_script('return arguments[0].innerHTML',element)\n",
    "soup=BeautifulSoup(html_of_interest, 'lxml')"
   ]
  },
  {
   "attachments": {},
   "cell_type": "markdown",
   "metadata": {},
   "source": [
    "## Lấy Sitemap (sitemap chứa tất cả các url)"
   ]
  },
  {
   "cell_type": "code",
   "execution_count": 5,
   "metadata": {},
   "outputs": [],
   "source": [
    "# Tạo list sitemap chung\n",
    "list_all_sitemap = []\n",
    "\n",
    "all_sitemap = soup.select('div[class=\"folder\"] > div[class=\"opened\"] > div[class=\"line\"] > span:not([class])')\n",
    "\n",
    "for sm in all_sitemap:\n",
    "    sm = sm.text\n",
    "    if 'http' in sm:\n",
    "        list_all_sitemap.append(sm)"
   ]
  },
  {
   "attachments": {},
   "cell_type": "markdown",
   "metadata": {},
   "source": [
    "#### Sitemap Movie"
   ]
  },
  {
   "cell_type": "code",
   "execution_count": 6,
   "metadata": {},
   "outputs": [],
   "source": [
    "# Tạo list sitemap movie\n",
    "list_sitemap_movie = []\n",
    "\n",
    "for sm_movie in list_all_sitemap:\n",
    "    sm_movie = re.findall(r'https://www.rottentomatoes.com/sitemaps/movie_[0-9]{1,3}.xml', sm_movie)\n",
    "    if sm_movie != []: \n",
    "        list_sitemap_movie.append(sm_movie[0])"
   ]
  },
  {
   "attachments": {},
   "cell_type": "markdown",
   "metadata": {},
   "source": [
    "#### Sitemap Franchise"
   ]
  },
  {
   "cell_type": "code",
   "execution_count": 9,
   "metadata": {},
   "outputs": [],
   "source": [
    "# Tạo list sitemap franchise\n",
    "list_sitemap_franchise = []\n",
    "\n",
    "for sm_franchise in list_all_sitemap:\n",
    "    if 'franchise' in sm_franchise:\n",
    "        list_sitemap_franchise.append(sm_franchise)"
   ]
  },
  {
   "attachments": {},
   "cell_type": "markdown",
   "metadata": {},
   "source": [
    "#### Sitemap TV series"
   ]
  },
  {
   "cell_type": "code",
   "execution_count": 11,
   "metadata": {},
   "outputs": [],
   "source": [
    "# Tạo list sitemap tv series\n",
    "list_sitemap_tv_series = []\n",
    "\n",
    "for sm_tv_series in list_all_sitemap:\n",
    "    sm_tv_series = re.findall(r'https://www.rottentomatoes.com/sitemaps/tv-series_[0-9]{1,3}.xml', sm_tv_series)\n",
    "    if sm_tv_series != []: \n",
    "        list_sitemap_tv_series.append(sm_tv_series[0])"
   ]
  },
  {
   "attachments": {},
   "cell_type": "markdown",
   "metadata": {},
   "source": [
    "#### Sitemap TV seasons"
   ]
  },
  {
   "cell_type": "code",
   "execution_count": 14,
   "metadata": {},
   "outputs": [],
   "source": [
    "# Tạo list sitemap tv seasons\n",
    "list_sitemap_tv_seasons = []\n",
    "\n",
    "for sm_tv_seasons in list_all_sitemap:\n",
    "    sm_tv_seasons = re.findall(r'https://www.rottentomatoes.com/sitemaps/tv-seasons_[0-9]{1,3}.xml', sm_tv_seasons)\n",
    "    if sm_tv_seasons != []: \n",
    "        list_sitemap_tv_seasons.append(sm_tv_seasons[0])"
   ]
  },
  {
   "attachments": {},
   "cell_type": "markdown",
   "metadata": {},
   "source": [
    "#### Sitemap TV episodes"
   ]
  },
  {
   "cell_type": "code",
   "execution_count": 10,
   "metadata": {},
   "outputs": [],
   "source": [
    "# Tạo list sitemap tv episodes\n",
    "list_sitemap_tv_episodes = []\n",
    "\n",
    "for sm_tv_episodes in list_all_sitemap:\n",
    "    sm_tv_episodes = re.findall(r'https://www.rottentomatoes.com/sitemaps/tv-episodes_[0-9]{1,3}.xml', sm_tv_episodes)\n",
    "    if sm_tv_episodes != []: \n",
    "        list_sitemap_tv_episodes.append(sm_tv_episodes[0])"
   ]
  },
  {
   "attachments": {},
   "cell_type": "markdown",
   "metadata": {},
   "source": [
    "#### Sitemap Diễn viên"
   ]
  },
  {
   "cell_type": "code",
   "execution_count": 19,
   "metadata": {},
   "outputs": [],
   "source": [
    "# Tạo list sitemap diễn viên\n",
    "list_sitemap_person = []\n",
    "\n",
    "for sm_person in list_all_sitemap:\n",
    "    sm_person = re.findall(r'https://www.rottentomatoes.com/sitemaps/person_[0-9]{1,3}.xml', sm_person)\n",
    "    if sm_person != []: \n",
    "        list_sitemap_person.append(sm_person[0])"
   ]
  },
  {
   "attachments": {},
   "cell_type": "markdown",
   "metadata": {},
   "source": [
    "## Lấy URL"
   ]
  },
  {
   "attachments": {},
   "cell_type": "markdown",
   "metadata": {},
   "source": [
    "#### URL movie"
   ]
  },
  {
   "cell_type": "code",
   "execution_count": 7,
   "metadata": {},
   "outputs": [],
   "source": [
    "# Tạo list chưa url movie\n",
    "list_url_movie = []\n",
    "\n",
    "for sm_movie in list_sitemap_movie:\n",
    "    # Mở sitemap\n",
    "    driver.get(sm_movie)\n",
    "    \n",
    "    # Đợi 30s cho trang load\n",
    "    element_movie = WebDriverWait(driver, 30).until(EC.presence_of_element_located((By.CSS_SELECTOR, 'div[class=\"pretty-print\"]')))\n",
    "    html_of_interest = driver.execute_script('return arguments[0].innerHTML',element_movie)\n",
    "    soup_movie = BeautifulSoup(html_of_interest, 'lxml')\n",
    "    \n",
    "    # Lưu url movie\n",
    "    url_movie = soup_movie.select('div[class=\"folder\"] > div[class=\"opened\"] > div[class=\"folder\"] > div[class=\"opened\"] > div[class=\"line\"] > span:not([class])')\n",
    "\n",
    "    for url in url_movie:\n",
    "        url = url.text\n",
    "        if 'https://www.rottentomatoes.com' in url and 'pictures' not in url and 'trailer' not in url:\n",
    "            list_url_movie.append(url)"
   ]
  },
  {
   "attachments": {},
   "cell_type": "markdown",
   "metadata": {},
   "source": [
    "#### URL franchise"
   ]
  },
  {
   "cell_type": "code",
   "execution_count": 54,
   "metadata": {},
   "outputs": [
    {
     "name": "stdout",
     "output_type": "stream",
     "text": [
      "67\n"
     ]
    }
   ],
   "source": [
    "# Tạo list chưa url franchise\n",
    "list_url_franchise = []\n",
    "\n",
    "for sm_franchise in list_sitemap_franchise:\n",
    "    # Mở sitemap\n",
    "    driver.get(sm_franchise)\n",
    "    \n",
    "    # Đợi 30s cho trang load\n",
    "    element_franchise = WebDriverWait(driver, 30).until(EC.presence_of_element_located((By.CSS_SELECTOR, 'div[class=\"pretty-print\"]')))\n",
    "    html_of_interest = driver.execute_script('return arguments[0].innerHTML',element_franchise)\n",
    "    soup_franchise = BeautifulSoup(html_of_interest, 'lxml')\n",
    "    \n",
    "    # Lưu url franchise\n",
    "    url_franchise = soup_franchise.select('div[class=\"folder\"] > div[class=\"opened\"] > div[class=\"folder\"] > div[class=\"opened\"] > div[class=\"line\"] > span:not([class])')\n",
    "\n",
    "    for url in url_franchise:\n",
    "        url = url.text\n",
    "        if 'https://www.rottentomatoes.com' in url and 'pictures' not in url:\n",
    "            list_url_franchise.append(url)"
   ]
  },
  {
   "attachments": {},
   "cell_type": "markdown",
   "metadata": {},
   "source": [
    "#### URL TV series"
   ]
  },
  {
   "cell_type": "code",
   "execution_count": null,
   "metadata": {},
   "outputs": [],
   "source": [
    "# Tạo list chứa url tv series\n",
    "list_url_tv_series = []\n",
    "\n",
    "for sm_tv_series in list_sitemap_tv_series:\n",
    "    # Mở sitemap\n",
    "    driver.get(sm_tv_series)\n",
    "    \n",
    "    # Đợi 30s cho trang load\n",
    "    element_tv_series = WebDriverWait(driver, 30).until(EC.presence_of_element_located((By.CSS_SELECTOR, 'div[class=\"pretty-print\"]')))\n",
    "    html_of_interest = driver.execute_script('return arguments[0].innerHTML',element_tv_series)\n",
    "    soup_tv_series = BeautifulSoup(html_of_interest, 'lxml')\n",
    "    \n",
    "    # Lưu url tv series\n",
    "    url_tv_series = soup_tv_series.select('div[class=\"folder\"] > div[class=\"opened\"] > div[class=\"folder\"] > div[class=\"opened\"] > div[class=\"line\"] > span:not([class])')\n",
    "\n",
    "    for url in url_tv_series:\n",
    "        url = url.text\n",
    "        if 'https://www.rottentomatoes.com' in url and 'pictures' not in url:\n",
    "            list_url_tv_series.append(url)"
   ]
  },
  {
   "attachments": {},
   "cell_type": "markdown",
   "metadata": {},
   "source": [
    "#### URL TV seasons"
   ]
  },
  {
   "cell_type": "code",
   "execution_count": null,
   "metadata": {},
   "outputs": [],
   "source": [
    "# Tạo list chứa url tv seasons\n",
    "list_url_tv_seasons = []\n",
    "\n",
    "for sm_tv_seasons in list_sitemap_tv_seasons:\n",
    "    # Mở sitemap\n",
    "    driver.get(sm_tv_seasons)\n",
    "    \n",
    "    # Đợi 15s cho trang load\n",
    "    element_tv_seasons = WebDriverWait(driver, 15).until(EC.presence_of_element_located((By.CSS_SELECTOR, 'div[class=\"pretty-print\"]')))\n",
    "    html_of_interest = driver.execute_script('return arguments[0].innerHTML',element_tv_seasons)\n",
    "    soup_tv_seasons = BeautifulSoup(html_of_interest, 'lxml')\n",
    "    \n",
    "    # Lưu url tv seasons\n",
    "    url_tv_seasons = soup_tv_seasons.select('div[class=\"folder\"] > div[class=\"opened\"] > div[class=\"folder\"] > div[class=\"opened\"] > div[class=\"line\"] > span:not([class])')\n",
    "\n",
    "    for url in url_tv_seasons:\n",
    "        url = url.text\n",
    "        if 'https://www.rottentomatoes.com' in url and 'pictures' not in url:\n",
    "            list_url_tv_seasons.append(url)"
   ]
  },
  {
   "attachments": {},
   "cell_type": "markdown",
   "metadata": {},
   "source": [
    "#### URL TV episodes"
   ]
  },
  {
   "cell_type": "code",
   "execution_count": 12,
   "metadata": {},
   "outputs": [],
   "source": [
    "# Tạo list chứa url tv episodes\n",
    "list_url_tv_episodes = []\n",
    "\n",
    "for sm_tv_episodes in list_sitemap_tv_episodes:\n",
    "    \n",
    "    options = webdriver.ChromeOptions()\n",
    "    options.add_argument('--ignore-certificate-errors')\n",
    "    options.add_argument('--incognito')\n",
    "    driver = webdriver.Chrome(executable_path='C:\\chromedriver', options=options)\n",
    "    driver.implicitly_wait(0)\n",
    "    \n",
    "    # Mở sitemap\n",
    "    driver.get(sm_tv_episodes)\n",
    "    \n",
    "    # Đợi 15s cho trang load\n",
    "    element_tv_episodes = WebDriverWait(driver, 100).until(EC.presence_of_element_located((By.CSS_SELECTOR, 'div[class=\"pretty-print\"]')))\n",
    "    html_of_interest = driver.execute_script('return arguments[0].innerHTML',element_tv_episodes)\n",
    "    soup_tv_episodes = BeautifulSoup(html_of_interest, 'lxml')\n",
    "    \n",
    "    # Lưu url tv episodes\n",
    "    url_tv_episodes = soup_tv_episodes.select('div[class=\"folder\"] > div[class=\"opened\"] > div[class=\"folder\"] > div[class=\"opened\"] > div[class=\"line\"] > span:not([class])')\n",
    "\n",
    "    for url in url_tv_episodes:\n",
    "        url = url.text\n",
    "        if 'https://www.rottentomatoes.com' in url and 'pictures' not in url:\n",
    "            list_url_tv_episodes.append(url)"
   ]
  },
  {
   "attachments": {},
   "cell_type": "markdown",
   "metadata": {},
   "source": [
    "#### URL diễn viên"
   ]
  },
  {
   "cell_type": "code",
   "execution_count": null,
   "metadata": {
    "collapsed": true,
    "jupyter": {
     "outputs_hidden": true
    }
   },
   "outputs": [],
   "source": [
    "# Tạo list chứa url tv diễn viên\n",
    "list_url_person = []\n",
    "\n",
    "for sm_person in list_sitemap_person:\n",
    "    # Mở sitemap\n",
    "    driver.get(sm_person)\n",
    "    \n",
    "    # Đợi 15s cho trang load\n",
    "    element_person = WebDriverWait(driver, 100).until(EC.presence_of_element_located((By.CSS_SELECTOR, 'div[class=\"pretty-print\"]')))\n",
    "    html_of_interest = driver.execute_script('return arguments[0].innerHTML',element_person)\n",
    "    soup_person = BeautifulSoup(html_of_interest, 'lxml')\n",
    "    \n",
    "    # Lưu url diễn viên\n",
    "    url_person = soup_person.select('div[class=\"folder\"] > div[class=\"opened\"] > div[class=\"folder\"] > div[class=\"opened\"] > div[class=\"line\"] > span:not([class])')\n",
    "\n",
    "    for url in url_person:\n",
    "        url = url.text\n",
    "        if 'https://www.rottentomatoes.com' in url and 'pictures' not in url:\n",
    "            list_url_person.append(url)"
   ]
  },
  {
   "attachments": {},
   "cell_type": "markdown",
   "metadata": {},
   "source": [
    "# Lưu URL thành file csv"
   ]
  },
  {
   "cell_type": "code",
   "execution_count": 79,
   "metadata": {},
   "outputs": [],
   "source": [
    "# Save file URL_movie.csv \n",
    "df_movie = pd.DataFrame(list_url_movie, columns=['URL movie'])\n",
    "df_movie.to_csv('URL_movie.csv', index=False)\n",
    "\n",
    "# Save file URL_franchise.csv\n",
    "df_franchise = pd.DataFrame(list_url_franchise, columns=['URL franchise'])\n",
    "df_franchise.to_csv('URL_franchise.csv', index=False)\n",
    "\n",
    "# Save file URL_tv_series.csv\n",
    "df_tv_series = pd.DataFrame(list_url_tv_series, columns=['URL tv series'])\n",
    "df_tv_series.to_csv('URL_tv_series.csv', index=False)\n",
    "\n",
    "# Save file URL_tv_seasons.csv\n",
    "df_tv_seasons = pd.DataFrame(list_url_tv_seasons, columns=['URL tv seasons'])\n",
    "df_tv_seasons.to_csv('URL_tv_seasons.csv', index=False)\n",
    "\n",
    "# Save file URL_tv_episodes.csv\n",
    "df_tv_episodes = pd.DataFrame(list_url_tv_episodes, columns=['URL tv episodes'])\n",
    "df_tv_episodes.to_csv('URL_tv_episodes.csv', index=False)\n",
    "\n",
    "# Save file URL_person.csv\n",
    "df_person = pd.DataFrame(list_url_person, columns=['URL diễn viên'])\n",
    "df_person.to_csv('URL_person.csv', index=False)"
   ]
  }
 ],
 "metadata": {
  "kernelspec": {
   "display_name": "Python 3",
   "language": "python",
   "name": "python3"
  },
  "language_info": {
   "codemirror_mode": {
    "name": "ipython",
    "version": 3
   },
   "file_extension": ".py",
   "mimetype": "text/x-python",
   "name": "python",
   "nbconvert_exporter": "python",
   "pygments_lexer": "ipython3",
   "version": "3.9.0"
  }
 },
 "nbformat": 4,
 "nbformat_minor": 4
}
